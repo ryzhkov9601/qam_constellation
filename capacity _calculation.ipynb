{
 "cells": [
  {
   "cell_type": "code",
   "execution_count": 2,
   "metadata": {},
   "outputs": [],
   "source": [
    "import numpy as np\n",
    "from scipy import integrate\n",
    "from cmath import rect\n",
    "import matplotlib.pyplot as plt"
   ]
  },
  {
   "cell_type": "code",
   "execution_count": 3,
   "metadata": {},
   "outputs": [],
   "source": [
    "def awgn_channel_capacity(snr_db, x, p):\n",
    "    snr = 10**(snr_db / 10)\n",
    "\n",
    "    def pdf_channel_output(y1, y2, snr, x, p):\n",
    "        res = 0.0\n",
    "        for xk, pk in zip(x, p):\n",
    "            uk = (y1 - np.sqrt(snr) * np.real(xk))**2 + (y2 - np.sqrt(snr) * np.imag(xk))**2\n",
    "            res += pk / np.pi * np.exp(-uk)\n",
    "\n",
    "        return res\n",
    "\n",
    "    def integrand(snr, x, p):\n",
    "        return lambda y1, y2: pdf_channel_output(y1, y2, snr, x, p) * np.log2(pdf_channel_output(y1, y2, snr, x, p))\n",
    "\n",
    "\n",
    "    R = np.max(np.abs(np.sqrt(snr) * x)) + 5\n",
    "    h = lambda x: np.sqrt(R**2 - x**2)\n",
    "    g = lambda x: -np.sqrt(R**2 - x**2)\n",
    "\n",
    "\n",
    "    integral, abserr = integrate.dblquad(integrand(snr, x, p), -R, R, g, h, epsabs=1e-5, epsrel=1e-5)\n",
    "    capacity = -np.log2(np.pi * np.e) - integral\n",
    "    return capacity, abserr"
   ]
  },
  {
   "cell_type": "code",
   "execution_count": 4,
   "metadata": {},
   "outputs": [],
   "source": [
    "probs = np.full(16, 1/16)\n",
    "def mean_energy(x, p=probs):\n",
    "    return np.dot(np.abs(x)**2, p)"
   ]
  },
  {
   "cell_type": "code",
   "execution_count": 5,
   "metadata": {},
   "outputs": [],
   "source": [
    "qam_16 = []\n",
    "aqam_16 = []\n",
    "\n",
    "a = 1.0 / np.sqrt(10.)\n",
    "b = 1.0 / np.sqrt(11.5)\n",
    "\n",
    "for i in range(4):\n",
    "        for j in range(4):\n",
    "            point = (-3. + 2 * i) + (-3. + 2 * j) * 1j\n",
    "            qam_16.append(a * point)\n",
    "\n",
    "            rho = np.sqrt(2. + 6 * i) if i else 2.\n",
    "            theta = (i % 2) * np.pi / 4 + j * np.pi / 2\n",
    "            aqam_16.append(b * rect(rho, theta))\n",
    "\n",
    "qam_16 = np.array(qam_16)\n",
    "aqam_16 = np.array(aqam_16)"
   ]
  },
  {
   "cell_type": "code",
   "execution_count": 6,
   "metadata": {},
   "outputs": [],
   "source": [
    "snr_db_values = np.arange(-1., 20.1, 0.5)\n",
    "res_qam = [awgn_channel_capacity(snr_db, qam_16, probs) for snr_db in snr_db_values]\n",
    "res_aqam = [awgn_channel_capacity(snr_db, aqam_16, probs) for snr_db in snr_db_values]"
   ]
  },
  {
   "cell_type": "code",
   "execution_count": 7,
   "metadata": {},
   "outputs": [
    {
     "data": {
      "image/png": "[encoded data removed]",
      "text/plain": [
       "<Figure size 432x288 with 1 Axes>"
      ]
     },
     "metadata": {
      "needs_background": "light"
     },
     "output_type": "display_data"
    }
   ],
   "source": [
    "y1 = np.array([val for val, _ in res_qam])\n",
    "y2 = np.array([val for val, _ in res_aqam])\n",
    "\n",
    "plt.plot(snr_db_values, y1, \"-b\", label=\"QAM-16\")\n",
    "plt.plot(snr_db_values, y2, \"-r\", label=\"AQAM-16\")\n",
    "plt.legend(loc=\"upper left\")\n",
    "plt.xlabel('SNR')\n",
    "plt.ylabel('Capacity')\n",
    "# plt.savefig('capacity_plot.png')\n",
    "plt.show()"
   ]
  }
 ],
 "metadata": {
  "kernelspec": {
   "display_name": "base",
   "language": "python",
   "name": "python3"
  },
  "language_info": {
   "codemirror_mode": {
    "name": "ipython",
    "version": 3
   },
   "file_extension": ".py",
   "mimetype": "text/x-python",
   "name": "python",
   "nbconvert_exporter": "python",
   "pygments_lexer": "ipython3",
   "version": "3.9.12"
  },
  "orig_nbformat": 4
 },
 "nbformat": 4,
 "nbformat_minor": 2
}
